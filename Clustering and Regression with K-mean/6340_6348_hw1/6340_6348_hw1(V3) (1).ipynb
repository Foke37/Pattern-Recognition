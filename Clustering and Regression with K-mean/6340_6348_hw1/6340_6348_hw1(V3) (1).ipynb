{
 "cells": [
  {
   "cell_type": "markdown",
   "metadata": {},
   "source": [
    "# Homework 1"
   ]
  },
  {
   "cell_type": "markdown",
   "metadata": {},
   "source": [
    "- Phanthat Likitbantoon 63340500040\n",
    "- Phufa Boonchuatrong 63340500048"
   ]
  },
  {
   "cell_type": "markdown",
   "metadata": {},
   "source": [
    "## 1. Clustering"
   ]
  },
  {
   "cell_type": "code",
   "execution_count": 94,
   "metadata": {},
   "outputs": [],
   "source": [
    "import matplotlib.pyplot as plt\n",
    "import numpy as np"
   ]
  },
  {
   "cell_type": "code",
   "execution_count": 95,
   "metadata": {},
   "outputs": [
    {
     "data": {
      "image/png": "[encoded data removed]",
      "text/plain": [
       "<Figure size 640x480 with 1 Axes>"
      ]
     },
     "metadata": {},
     "output_type": "display_data"
    }
   ],
   "source": [
    "# x axis values\n",
    "x = [1,3,2,8,6,7,-3,-2,-7]\n",
    "# corresponding y axis values\n",
    "y = [2,3,2,8,6,7,-3,-4,-7]\n",
    " \n",
    "# plotting the points \n",
    "plt.plot(x, y,'ro')\n",
    " \n",
    "# setting x and y axis range\n",
    "plt.ylim(-8,9)\n",
    "plt.xlim(-8,9)\n",
    "\n",
    "plt.show()"
   ]
  },
  {
   "cell_type": "markdown",
   "metadata": {},
   "source": [
    "### 1.1. If the starting points are (3,3), (2,2), and (-3,-3). Describe each assign and update step. \n",
    "What are the points assigned? What are the updated centroids? You may do this\n",
    "calculation by hand or write a program to do it."
   ]
  },
  {
   "cell_type": "markdown",
   "metadata": {},
   "source": [
    "--> ANS"
   ]
  },
  {
   "cell_type": "code",
   "execution_count": 96,
   "metadata": {},
   "outputs": [],
   "source": [
    "xc_i = [3,2,-3]\n",
    "yc_i = [3,2,-3]\n",
    "mark = ['bo','go','yo']"
   ]
  },
  {
   "cell_type": "code",
   "execution_count": 97,
   "metadata": {},
   "outputs": [],
   "source": [
    "def euclidian_distance(x1,y1,x2,y2):\n",
    "    return ((x2 - x1)**2 + (y2 - y1)**2)**0.5\n",
    "\n",
    "def remove_centroid_from_sample(xs, ys, xc, yc):\n",
    "    idx_remove = []\n",
    "    for i in range(len(xs)):\n",
    "        for j in range(len(xc)):\n",
    "            if xs[i] == xc[j] and ys[i] == yc[j]:\n",
    "                idx_remove.append(i)\n",
    "\n",
    "    arr1 = np.array(xs)\n",
    "    arr2 = np.array(ys)\n",
    "\n",
    "    new_arr1 = np.delete(arr1, idx_remove)\n",
    "    new_arr2 = np.delete(arr2, idx_remove)\n",
    "\n",
    "    x_new = new_arr1.tolist()\n",
    "    y_new = new_arr2.tolist()\n",
    "\n",
    "    print(\"Removed =\", [xs[i] for i in idx_remove], \", New_List =\", x_new)\n",
    "    print(\"Removed =\", [ys[i] for i in idx_remove], \", New_List =\", y_new)\n",
    "\n",
    "    return x_new, y_new\n",
    "\n",
    "def mean(data):\n",
    "    mean = np.mean(data)\n",
    "    \n",
    "    return mean\n"
   ]
  },
  {
   "cell_type": "markdown",
   "metadata": {},
   "source": [
    "journey = random centroid --> group by euclidence distance --> mean of group --> new centroid --> repeat"
   ]
  },
  {
   "cell_type": "code",
   "execution_count": 98,
   "metadata": {},
   "outputs": [],
   "source": [
    "def plot_figure(xc, yc, xs, ys, step):\n",
    "    mark = ['bo','go','yo']\n",
    "    for i in range(len(xs)):\n",
    "        plt.plot(xs[i], ys[i],mark[i])\n",
    "    \n",
    "    plt.plot(xc, yc,'ro')\n",
    "    # setting x and y axis range\n",
    "    plt.ylim(-8,9)\n",
    "    plt.xlim(-8,9)\n",
    "    plt.title(f'Repeat = {step}')\n",
    "\n",
    "    centroid = list(zip(xc, yc))\n",
    "    assign = [list(zip(i, j)) for i,j in list(zip(xs, ys))]\n",
    "\n",
    "    print(f' ----------- Step = {step} ----------- ')\n",
    "    for idx, val in enumerate(centroid):\n",
    "        print(f'Centroid = {val}')\n",
    "        print(f'Assign Data to each centroid = {assign[idx]}')\n",
    "    \n",
    "    plt.show()"
   ]
  },
  {
   "cell_type": "code",
   "execution_count": 99,
   "metadata": {},
   "outputs": [],
   "source": [
    "def k_clustering(xs, ys, k, xc_i, yc_i,plot=True):\n",
    "    if len(xc_i) != len(yc_i) or k != len(xc_i):\n",
    "        print('Dimension not match')\n",
    "\n",
    "    xc = [xc_i]\n",
    "    yc = [yc_i]\n",
    "    xg = []\n",
    "    yg = []\n",
    "    n = 0\n",
    "    while True: # outter loop repeat n times\n",
    "\n",
    "        ## Assign centroid\n",
    "        x_group = [[] for i in range(k)]\n",
    "        y_group = [[] for i in range(k)]\n",
    "\n",
    "\n",
    "        for i in range(len(xs)):\n",
    "            ecd_dis = []\n",
    "            for c in range(len(xc_i)):\n",
    "                ecd_dis.append(euclidian_distance(xs[i], ys[i], xc[-1][c], yc[-1][c]))\n",
    "\n",
    "            x_group[ecd_dis.index(min(ecd_dis))].append(x[i])\n",
    "            y_group[ecd_dis.index(min(ecd_dis))].append(y[i])\n",
    "\n",
    "        xg.append(x_group)\n",
    "        yg.append(y_group)\n",
    "\n",
    "\n",
    "        ## Update centroid\n",
    "        temp1 = [mean(x) for x in x_group]\n",
    "        temp2 = [mean(y) for y in y_group]\n",
    "        if plot ==  True :\n",
    "          plot_figure(xc[-1], yc[-1], x_group, y_group, n)\n",
    "\n",
    "        if temp1 == xc[-1] and temp2 == yc[-1]:\n",
    "          if k != len(xs):\n",
    "            xg = xg[-1]\n",
    "            yg = yg[-1]\n",
    "          elif k == len(xs):\n",
    "            xg = xg[0]\n",
    "            yg = yg[0]\n",
    "\n",
    "          break\n",
    "\n",
    "        xc.append(temp1)\n",
    "        yc.append(temp2)\n",
    "        n += 1\n",
    "\n",
    "    return xc, yc, xg, yg\n"
   ]
  },
  {
   "cell_type": "code",
   "execution_count": 100,
   "metadata": {},
   "outputs": [
    {
     "name": "stdout",
     "output_type": "stream",
     "text": [
      " ----------- Step = 0 ----------- \n",
      "Centroid = (3, 3)\n",
      "Assign Data to each centroid = [(3, 3), (8, 8), (6, 6), (7, 7)]\n",
      "Centroid = (2, 2)\n",
      "Assign Data to each centroid = [(1, 2), (2, 2)]\n",
      "Centroid = (-3, -3)\n",
      "Assign Data to each centroid = [(-3, -3), (-2, -4), (-7, -7)]\n"
     ]
    },
    {
     "data": {
      "image/png": "[encoded data removed]",
      "text/plain": [
       "<Figure size 640x480 with 1 Axes>"
      ]
     },
     "metadata": {},
     "output_type": "display_data"
    },
    {
     "name": "stdout",
     "output_type": "stream",
     "text": [
      " ----------- Step = 1 ----------- \n",
      "Centroid = (6.0, 6.0)\n",
      "Assign Data to each centroid = [(8, 8), (6, 6), (7, 7)]\n",
      "Centroid = (1.5, 2.0)\n",
      "Assign Data to each centroid = [(1, 2), (3, 3), (2, 2)]\n",
      "Centroid = (-4.0, -4.666666666666667)\n",
      "Assign Data to each centroid = [(-3, -3), (-2, -4), (-7, -7)]\n"
     ]
    },
    {
     "data": {
      "image/png": "[encoded data removed]",
      "text/plain": [
       "<Figure size 640x480 with 1 Axes>"
      ]
     },
     "metadata": {},
     "output_type": "display_data"
    },
    {
     "name": "stdout",
     "output_type": "stream",
     "text": [
      " ----------- Step = 2 ----------- \n",
      "Centroid = (7.0, 7.0)\n",
      "Assign Data to each centroid = [(8, 8), (6, 6), (7, 7)]\n",
      "Centroid = (2.0, 2.3333333333333335)\n",
      "Assign Data to each centroid = [(1, 2), (3, 3), (2, 2)]\n",
      "Centroid = (-4.0, -4.666666666666667)\n",
      "Assign Data to each centroid = [(-3, -3), (-2, -4), (-7, -7)]\n"
     ]
    },
    {
     "data": {
      "image/png": "[encoded data removed]",
      "text/plain": [
       "<Figure size 640x480 with 1 Axes>"
      ]
     },
     "metadata": {},
     "output_type": "display_data"
    }
   ],
   "source": [
    "xc, yc, xg, yg = k_clustering(x, y, 3, xc_i, yc_i, plot = True)"
   ]
  },
  {
   "cell_type": "markdown",
   "metadata": {},
   "source": [
    "### 1.2. If the starting points are (-3,-3), (2,2), and (-7,-7), what happens?"
   ]
  },
  {
   "cell_type": "markdown",
   "metadata": {},
   "source": [
    "--> ANS"
   ]
  },
  {
   "cell_type": "code",
   "execution_count": 101,
   "metadata": {},
   "outputs": [
    {
     "name": "stdout",
     "output_type": "stream",
     "text": [
      " ----------- Step = 0 ----------- \n",
      "Centroid = (-3, -3)\n",
      "Assign Data to each centroid = [(-3, -3), (-2, -4)]\n",
      "Centroid = (2, 2)\n",
      "Assign Data to each centroid = [(1, 2), (3, 3), (2, 2), (8, 8), (6, 6), (7, 7)]\n",
      "Centroid = (-7, -7)\n",
      "Assign Data to each centroid = [(-7, -7)]\n"
     ]
    },
    {
     "data": {
      "image/png": "[encoded data removed]",
      "text/plain": [
       "<Figure size 640x480 with 1 Axes>"
      ]
     },
     "metadata": {},
     "output_type": "display_data"
    },
    {
     "name": "stdout",
     "output_type": "stream",
     "text": [
      " ----------- Step = 1 ----------- \n",
      "Centroid = (-2.5, -3.5)\n",
      "Assign Data to each centroid = [(-3, -3), (-2, -4)]\n",
      "Centroid = (4.5, 4.666666666666667)\n",
      "Assign Data to each centroid = [(1, 2), (3, 3), (2, 2), (8, 8), (6, 6), (7, 7)]\n",
      "Centroid = (-7.0, -7.0)\n",
      "Assign Data to each centroid = [(-7, -7)]\n"
     ]
    },
    {
     "data": {
      "image/png": "[encoded data removed]",
      "text/plain": [
       "<Figure size 640x480 with 1 Axes>"
      ]
     },
     "metadata": {},
     "output_type": "display_data"
    },
    {
     "data": {
      "text/plain": [
       "([[-3, 2, -7], [-2.5, 4.5, -7.0]],\n",
       " [[-3, 2, -7], [-3.5, 4.666666666666667, -7.0]],\n",
       " [[-3, -2], [1, 3, 2, 8, 6, 7], [-7]],\n",
       " [[-3, -4], [2, 3, 2, 8, 6, 7], [-7]])"
      ]
     },
     "execution_count": 101,
     "metadata": {},
     "output_type": "execute_result"
    }
   ],
   "source": [
    "xc_i = [-3, 2, -7]\n",
    "yc_i = [-3, 2, -7]\n",
    "\n",
    "k_clustering(x, y, 3, xc_i, yc_i)"
   ]
  },
  {
   "cell_type": "markdown",
   "metadata": {},
   "source": [
    "### 1.3. Between the two-starting set of points in the previous two questions, which one do you \n",
    "think is better? How would you measure the ‘goodness’ quality of a set of starting points?\n"
   ]
  },
  {
   "cell_type": "markdown",
   "metadata": {},
   "source": [
    "--> starting point จาก (3,3), (2,2), and (-3,-3) แบบข้อ 1.1 ดีกว่า เพราะว่า เห็นการแบ่งกลุ่มของ data sample ได้อย่างชัดเจนเมื่อเทียบกับ starting point จากข้อ 1.2 ที่เมื่อทำ k-mean แล้วจะมี centroid นึงที่มีแค่ data sample เดียวก็คือตัวมันเอง"
   ]
  },
  {
   "cell_type": "markdown",
   "metadata": {},
   "source": [
    "### 1.4. What would be the best K for this question? Describe your reasoning."
   ]
  },
  {
   "cell_type": "code",
   "execution_count": 102,
   "metadata": {},
   "outputs": [],
   "source": [
    "#find all data centroid\n",
    "x = [1,3,2,8,6,7,-3,-2,-7]\n",
    "y = [2,3,2,8,6,7,-3,-4,-7]\n",
    "sum_x = 0\n",
    "sum_y = 0\n",
    "for i in x:\n",
    "  sum_x += i\n",
    "for j in y:\n",
    "  sum_y += j\n",
    "\n",
    "Mean_data_X = sum_x/len(x)\n",
    "Mean_data_Y = sum_y/len(y)\n",
    "\n",
    "\n",
    "def AllDataVariance(x,y):\n",
    "  sum_square_p2M_distance = 0.\n",
    "  n = len(x)\n",
    "  for i in range(len(x)):\n",
    "    #sum_square_p2M_distance += np.square(x[i]-Mean_data_X) + np.square(y[i]-Mean_data_Y)\n",
    "    sum_square_p2M_distance += np.square(x[i]-Mean_data_X) + np.square(y[i]-Mean_data_Y)\n",
    "\n",
    "  AllDataVariance = sum_square_p2M_distance/8\n",
    "  return AllDataVariance\n",
    "\n",
    "all_data_variance = AllDataVariance(x,y)\n",
    "\n",
    "# find between cluster variance\n",
    "def BetweenClusterVariance(K,c_x,c_y):\n",
    "  sum_square_c2M_distance = 0.\n",
    "  for i in range(len(c_x)):\n",
    "    sum_square_c2M_distance += len(K[i])*(np.square(c_x[i]-Mean_data_X)+ np.square(c_y[i]-Mean_data_Y))\n",
    "  BetweenClusterVariance = sum_square_c2M_distance/8\n",
    "  return BetweenClusterVariance"
   ]
  },
  {
   "cell_type": "markdown",
   "metadata": {},
   "source": [
    "Random initial centroid"
   ]
  },
  {
   "cell_type": "code",
   "execution_count": 110,
   "metadata": {},
   "outputs": [
    {
     "name": "stdout",
     "output_type": "stream",
     "text": [
      "fraction of explained variance\n",
      "K =  1  : 0.0\n",
      "K =  2  : 0.6633368756641871\n",
      "K =  3  : 0.9298618490967058\n",
      "K =  4  : 0.9816684378320936\n",
      "K =  5  : 0.9856535600425079\n",
      "K =  6  : 0.989240170031881\n",
      "K =  7  : 0.9964133900106271\n",
      "K =  8  : 0.9976089266737515\n",
      "K =  9  : 1.0000000000000002\n"
     ]
    }
   ],
   "source": [
    "import random\n",
    "random.seed(1234)\n",
    "x = [1,3,2,8,6,7,-3,-2,-7]\n",
    "y = [2,3,2,8,6,7,-3,-4,-7]\n",
    "xc_i = []\n",
    "yc_i = []\n",
    "Allfriction = []\n",
    "print(\"fraction of explained variance\")\n",
    "for i in range(1,len(x)+1):\n",
    "  random_points = random.sample(range(0, 9), i)\n",
    "  # print(random_points)\n",
    "\n",
    "  for j in random_points:\n",
    "    xc_i.append(x[j])\n",
    "    yc_i.append(y[j])\n",
    "  # print(x[j],y[j])\n",
    "\n",
    "  xc, yc, xg, yg = k_clustering(x, y, i, xc_i, yc_i,plot=False)\n",
    "  # print(xc)\n",
    "  between_cluster_variance = BetweenClusterVariance(xg,xc[-1],yc[-1])\n",
    "  #find fraction of explained variance\n",
    "  fraction_of_explained_variance = between_cluster_variance/all_data_variance\n",
    "\n",
    "  Allfriction.append(fraction_of_explained_variance)\n",
    "  print(\"K = \",i,\" :\", fraction_of_explained_variance )\n",
    "\n",
    "\n",
    "  xc_i = []\n",
    "  yc_i = []\n"
   ]
  },
  {
   "cell_type": "markdown",
   "metadata": {},
   "source": [
    "Plot elbow method"
   ]
  },
  {
   "cell_type": "code",
   "execution_count": 111,
   "metadata": {},
   "outputs": [
    {
     "data": {
      "image/png": "[encoded data removed]",
      "text/plain": [
       "<Figure size 1000x600 with 1 Axes>"
      ]
     },
     "metadata": {},
     "output_type": "display_data"
    }
   ],
   "source": [
    "import matplotlib.pyplot as plt\n",
    "\n",
    "# Number of clusters (k) for each distortion value\n",
    "k_values = [i for i in range(1,len(x)+1)]\n",
    "\n",
    "# Plotting the elbow curve\n",
    "plt.figure(figsize=(10, 6))\n",
    "plt.plot(k_values, Allfriction, marker='o', linestyle='-')\n",
    "plt.xlabel('Number of Clusters (k)')\n",
    "plt.ylabel('Fraction of explained variance')\n",
    "plt.title('Elbow Curve')\n",
    "plt.grid(True)\n",
    "plt.show()"
   ]
  },
  {
   "cell_type": "markdown",
   "metadata": {},
   "source": [
    "Summary : จากภาพเมื่อสังเกตดูจะพบว่า จุดที่เป็นข้อศอกคือช่วง K = 3 ซึ่งมีค่า fraction_of_explained_variance 92.98 % ดังนั้นจึงขอสรุปว่า K = 3 เป็นค่า K ที่มีความเหมาะสมมากที่สุด"
   ]
  },
  {
   "cell_type": "markdown",
   "metadata": {},
   "source": [
    "## 2. Regression"
   ]
  },
  {
   "cell_type": "code",
   "execution_count": 13,
   "metadata": {},
   "outputs": [],
   "source": [
    "import pandas as pd\n",
    "import numpy as np"
   ]
  },
  {
   "cell_type": "code",
   "execution_count": 14,
   "metadata": {},
   "outputs": [],
   "source": [
    "train_url = \"http://s3.amazonaws.com/assets.datacamp.com/course/Kaggle/train.csv\"\n",
    "train = pd.read_csv(train_url)\n",
    "\n",
    "test_url = \"http://s3.amazonaws.com/assets.datacamp.com/course/Kaggle/test.csv\"\n",
    "test = pd.read_csv(test_url)"
   ]
  },
  {
   "cell_type": "code",
   "execution_count": 15,
   "metadata": {},
   "outputs": [
    {
     "data": {
      "text/html": [
       "<div>\n",
       "<style scoped>\n",
       "    .dataframe tbody tr th:only-of-type {\n",
       "        vertical-align: middle;\n",
       "    }\n",
       "\n",
       "    .dataframe tbody tr th {\n",
       "        vertical-align: top;\n",
       "    }\n",
       "\n",
       "    .dataframe thead th {\n",
       "        text-align: right;\n",
       "    }\n",
       "</style>\n",
       "<table border=\"1\" class=\"dataframe\">\n",
       "  <thead>\n",
       "    <tr style=\"text-align: right;\">\n",
       "      <th></th>\n",
       "      <th>PassengerId</th>\n",
       "      <th>Survived</th>\n",
       "      <th>Pclass</th>\n",
       "      <th>Age</th>\n",
       "      <th>SibSp</th>\n",
       "      <th>Parch</th>\n",
       "      <th>Fare</th>\n",
       "    </tr>\n",
       "  </thead>\n",
       "  <tbody>\n",
       "    <tr>\n",
       "      <th>count</th>\n",
       "      <td>891.000000</td>\n",
       "      <td>891.000000</td>\n",
       "      <td>891.000000</td>\n",
       "      <td>714.000000</td>\n",
       "      <td>891.000000</td>\n",
       "      <td>891.000000</td>\n",
       "      <td>891.000000</td>\n",
       "    </tr>\n",
       "    <tr>\n",
       "      <th>mean</th>\n",
       "      <td>446.000000</td>\n",
       "      <td>0.383838</td>\n",
       "      <td>2.308642</td>\n",
       "      <td>29.699118</td>\n",
       "      <td>0.523008</td>\n",
       "      <td>0.381594</td>\n",
       "      <td>32.204208</td>\n",
       "    </tr>\n",
       "    <tr>\n",
       "      <th>std</th>\n",
       "      <td>257.353842</td>\n",
       "      <td>0.486592</td>\n",
       "      <td>0.836071</td>\n",
       "      <td>14.526497</td>\n",
       "      <td>1.102743</td>\n",
       "      <td>0.806057</td>\n",
       "      <td>49.693429</td>\n",
       "    </tr>\n",
       "    <tr>\n",
       "      <th>min</th>\n",
       "      <td>1.000000</td>\n",
       "      <td>0.000000</td>\n",
       "      <td>1.000000</td>\n",
       "      <td>0.420000</td>\n",
       "      <td>0.000000</td>\n",
       "      <td>0.000000</td>\n",
       "      <td>0.000000</td>\n",
       "    </tr>\n",
       "    <tr>\n",
       "      <th>25%</th>\n",
       "      <td>223.500000</td>\n",
       "      <td>0.000000</td>\n",
       "      <td>2.000000</td>\n",
       "      <td>20.125000</td>\n",
       "      <td>0.000000</td>\n",
       "      <td>0.000000</td>\n",
       "      <td>7.910400</td>\n",
       "    </tr>\n",
       "    <tr>\n",
       "      <th>50%</th>\n",
       "      <td>446.000000</td>\n",
       "      <td>0.000000</td>\n",
       "      <td>3.000000</td>\n",
       "      <td>28.000000</td>\n",
       "      <td>0.000000</td>\n",
       "      <td>0.000000</td>\n",
       "      <td>14.454200</td>\n",
       "    </tr>\n",
       "    <tr>\n",
       "      <th>75%</th>\n",
       "      <td>668.500000</td>\n",
       "      <td>1.000000</td>\n",
       "      <td>3.000000</td>\n",
       "      <td>38.000000</td>\n",
       "      <td>1.000000</td>\n",
       "      <td>0.000000</td>\n",
       "      <td>31.000000</td>\n",
       "    </tr>\n",
       "    <tr>\n",
       "      <th>max</th>\n",
       "      <td>891.000000</td>\n",
       "      <td>1.000000</td>\n",
       "      <td>3.000000</td>\n",
       "      <td>80.000000</td>\n",
       "      <td>8.000000</td>\n",
       "      <td>6.000000</td>\n",
       "      <td>512.329200</td>\n",
       "    </tr>\n",
       "  </tbody>\n",
       "</table>\n",
       "</div>"
      ],
      "text/plain": [
       "       PassengerId    Survived      Pclass         Age       SibSp  \\\n",
       "count   891.000000  891.000000  891.000000  714.000000  891.000000   \n",
       "mean    446.000000    0.383838    2.308642   29.699118    0.523008   \n",
       "std     257.353842    0.486592    0.836071   14.526497    1.102743   \n",
       "min       1.000000    0.000000    1.000000    0.420000    0.000000   \n",
       "25%     223.500000    0.000000    2.000000   20.125000    0.000000   \n",
       "50%     446.000000    0.000000    3.000000   28.000000    0.000000   \n",
       "75%     668.500000    1.000000    3.000000   38.000000    1.000000   \n",
       "max     891.000000    1.000000    3.000000   80.000000    8.000000   \n",
       "\n",
       "            Parch        Fare  \n",
       "count  891.000000  891.000000  \n",
       "mean     0.381594   32.204208  \n",
       "std      0.806057   49.693429  \n",
       "min      0.000000    0.000000  \n",
       "25%      0.000000    7.910400  \n",
       "50%      0.000000   14.454200  \n",
       "75%      0.000000   31.000000  \n",
       "max      6.000000  512.329200  "
      ]
     },
     "execution_count": 15,
     "metadata": {},
     "output_type": "execute_result"
    }
   ],
   "source": [
    "train.describe()"
   ]
  },
  {
   "cell_type": "code",
   "execution_count": 16,
   "metadata": {},
   "outputs": [
    {
     "data": {
      "text/plain": [
       "PassengerId    False\n",
       "Survived       False\n",
       "Pclass         False\n",
       "Name           False\n",
       "Sex            False\n",
       "Age             True\n",
       "SibSp          False\n",
       "Parch          False\n",
       "Ticket         False\n",
       "Fare           False\n",
       "Cabin           True\n",
       "Embarked        True\n",
       "dtype: bool"
      ]
     },
     "execution_count": 16,
     "metadata": {},
     "output_type": "execute_result"
    }
   ],
   "source": [
    "train.isnull().any()"
   ]
  },
  {
   "cell_type": "code",
   "execution_count": 17,
   "metadata": {},
   "outputs": [
    {
     "data": {
      "text/html": [
       "<div>\n",
       "<style scoped>\n",
       "    .dataframe tbody tr th:only-of-type {\n",
       "        vertical-align: middle;\n",
       "    }\n",
       "\n",
       "    .dataframe tbody tr th {\n",
       "        vertical-align: top;\n",
       "    }\n",
       "\n",
       "    .dataframe thead th {\n",
       "        text-align: right;\n",
       "    }\n",
       "</style>\n",
       "<table border=\"1\" class=\"dataframe\">\n",
       "  <thead>\n",
       "    <tr style=\"text-align: right;\">\n",
       "      <th></th>\n",
       "      <th>PassengerId</th>\n",
       "      <th>Survived</th>\n",
       "      <th>Pclass</th>\n",
       "      <th>Name</th>\n",
       "      <th>Sex</th>\n",
       "      <th>Age</th>\n",
       "      <th>SibSp</th>\n",
       "      <th>Parch</th>\n",
       "      <th>Ticket</th>\n",
       "      <th>Fare</th>\n",
       "      <th>Cabin</th>\n",
       "      <th>Embarked</th>\n",
       "    </tr>\n",
       "  </thead>\n",
       "  <tbody>\n",
       "    <tr>\n",
       "      <th>0</th>\n",
       "      <td>1</td>\n",
       "      <td>0</td>\n",
       "      <td>3</td>\n",
       "      <td>Braund, Mr. Owen Harris</td>\n",
       "      <td>male</td>\n",
       "      <td>22.0</td>\n",
       "      <td>1</td>\n",
       "      <td>0</td>\n",
       "      <td>A/5 21171</td>\n",
       "      <td>7.2500</td>\n",
       "      <td>NaN</td>\n",
       "      <td>S</td>\n",
       "    </tr>\n",
       "    <tr>\n",
       "      <th>1</th>\n",
       "      <td>2</td>\n",
       "      <td>1</td>\n",
       "      <td>1</td>\n",
       "      <td>Cumings, Mrs. John Bradley (Florence Briggs Th...</td>\n",
       "      <td>female</td>\n",
       "      <td>38.0</td>\n",
       "      <td>1</td>\n",
       "      <td>0</td>\n",
       "      <td>PC 17599</td>\n",
       "      <td>71.2833</td>\n",
       "      <td>C85</td>\n",
       "      <td>C</td>\n",
       "    </tr>\n",
       "    <tr>\n",
       "      <th>2</th>\n",
       "      <td>3</td>\n",
       "      <td>1</td>\n",
       "      <td>3</td>\n",
       "      <td>Heikkinen, Miss. Laina</td>\n",
       "      <td>female</td>\n",
       "      <td>26.0</td>\n",
       "      <td>0</td>\n",
       "      <td>0</td>\n",
       "      <td>STON/O2. 3101282</td>\n",
       "      <td>7.9250</td>\n",
       "      <td>NaN</td>\n",
       "      <td>S</td>\n",
       "    </tr>\n",
       "    <tr>\n",
       "      <th>3</th>\n",
       "      <td>4</td>\n",
       "      <td>1</td>\n",
       "      <td>1</td>\n",
       "      <td>Futrelle, Mrs. Jacques Heath (Lily May Peel)</td>\n",
       "      <td>female</td>\n",
       "      <td>35.0</td>\n",
       "      <td>1</td>\n",
       "      <td>0</td>\n",
       "      <td>113803</td>\n",
       "      <td>53.1000</td>\n",
       "      <td>C123</td>\n",
       "      <td>S</td>\n",
       "    </tr>\n",
       "    <tr>\n",
       "      <th>4</th>\n",
       "      <td>5</td>\n",
       "      <td>0</td>\n",
       "      <td>3</td>\n",
       "      <td>Allen, Mr. William Henry</td>\n",
       "      <td>male</td>\n",
       "      <td>35.0</td>\n",
       "      <td>0</td>\n",
       "      <td>0</td>\n",
       "      <td>373450</td>\n",
       "      <td>8.0500</td>\n",
       "      <td>NaN</td>\n",
       "      <td>S</td>\n",
       "    </tr>\n",
       "  </tbody>\n",
       "</table>\n",
       "</div>"
      ],
      "text/plain": [
       "   PassengerId  Survived  Pclass  \\\n",
       "0            1         0       3   \n",
       "1            2         1       1   \n",
       "2            3         1       3   \n",
       "3            4         1       1   \n",
       "4            5         0       3   \n",
       "\n",
       "                                                Name     Sex   Age  SibSp  \\\n",
       "0                            Braund, Mr. Owen Harris    male  22.0      1   \n",
       "1  Cumings, Mrs. John Bradley (Florence Briggs Th...  female  38.0      1   \n",
       "2                             Heikkinen, Miss. Laina  female  26.0      0   \n",
       "3       Futrelle, Mrs. Jacques Heath (Lily May Peel)  female  35.0      1   \n",
       "4                           Allen, Mr. William Henry    male  35.0      0   \n",
       "\n",
       "   Parch            Ticket     Fare Cabin Embarked  \n",
       "0      0         A/5 21171   7.2500   NaN        S  \n",
       "1      0          PC 17599  71.2833   C85        C  \n",
       "2      0  STON/O2. 3101282   7.9250   NaN        S  \n",
       "3      0            113803  53.1000  C123        S  \n",
       "4      0            373450   8.0500   NaN        S  "
      ]
     },
     "execution_count": 17,
     "metadata": {},
     "output_type": "execute_result"
    }
   ],
   "source": [
    "train[0:5]"
   ]
  },
  {
   "cell_type": "markdown",
   "metadata": {},
   "source": [
    "### 2.1. What is the median age of the training set?"
   ]
  },
  {
   "cell_type": "code",
   "execution_count": 18,
   "metadata": {},
   "outputs": [],
   "source": [
    "train[\"Age\"] = train[\"Age\"].fillna(train[\"Age\"].median())"
   ]
  },
  {
   "cell_type": "code",
   "execution_count": 19,
   "metadata": {},
   "outputs": [
    {
     "name": "stdout",
     "output_type": "stream",
     "text": [
      "The median age of the training set is 28.0\n"
     ]
    }
   ],
   "source": [
    "age_median = train[\"Age\"].median(0)\n",
    "print(f'The median age of the training set is {age_median}')"
   ]
  },
  {
   "cell_type": "markdown",
   "metadata": {},
   "source": [
    "### 2.2 Convert categorical 'Embarked' and 'Sex' columns to numbers \n"
   ]
  },
  {
   "cell_type": "markdown",
   "metadata": {},
   "source": [
    "Embarked column"
   ]
  },
  {
   "cell_type": "code",
   "execution_count": 20,
   "metadata": {},
   "outputs": [],
   "source": [
    "train[\"Embarked\"] = train[\"Embarked\"].fillna(train[\"Embarked\"].mode().item())\n",
    "# print(train[\"Embarked\"].mode())"
   ]
  },
  {
   "cell_type": "code",
   "execution_count": 21,
   "metadata": {},
   "outputs": [
    {
     "data": {
      "text/plain": [
       "S    646\n",
       "C    168\n",
       "Q     77\n",
       "Name: Embarked, dtype: int64"
      ]
     },
     "execution_count": 21,
     "metadata": {},
     "output_type": "execute_result"
    }
   ],
   "source": [
    "train[\"Embarked\"].value_counts()"
   ]
  },
  {
   "cell_type": "code",
   "execution_count": 22,
   "metadata": {},
   "outputs": [],
   "source": [
    "train['Embarked'] = train['Embarked'].map({'S':0, 'C':1, 'Q':2})  "
   ]
  },
  {
   "cell_type": "markdown",
   "metadata": {},
   "source": [
    "Sex column"
   ]
  },
  {
   "cell_type": "code",
   "execution_count": 23,
   "metadata": {},
   "outputs": [],
   "source": [
    "train['Sex'] = train['Sex'].map({'male':0, 'female':1})  "
   ]
  },
  {
   "cell_type": "code",
   "execution_count": 24,
   "metadata": {},
   "outputs": [],
   "source": [
    "def min_max_scaler(data):\n",
    "    min_values = np.min(data, axis=0)\n",
    "    max_values = np.max(data, axis=0)\n",
    "    return (data - min_values) / (max_values - min_values)"
   ]
  },
  {
   "cell_type": "markdown",
   "metadata": {},
   "source": [
    "Scaling data to between 0-1 by min-max scaling"
   ]
  },
  {
   "cell_type": "code",
   "execution_count": 25,
   "metadata": {},
   "outputs": [],
   "source": [
    "train['Age'] = min_max_scaler(train['Age'])\n",
    "train['Pclass'] = min_max_scaler(train['Pclass'])"
   ]
  },
  {
   "cell_type": "code",
   "execution_count": 26,
   "metadata": {},
   "outputs": [
    {
     "data": {
      "text/html": [
       "<div>\n",
       "<style scoped>\n",
       "    .dataframe tbody tr th:only-of-type {\n",
       "        vertical-align: middle;\n",
       "    }\n",
       "\n",
       "    .dataframe tbody tr th {\n",
       "        vertical-align: top;\n",
       "    }\n",
       "\n",
       "    .dataframe thead th {\n",
       "        text-align: right;\n",
       "    }\n",
       "</style>\n",
       "<table border=\"1\" class=\"dataframe\">\n",
       "  <thead>\n",
       "    <tr style=\"text-align: right;\">\n",
       "      <th></th>\n",
       "      <th>PassengerId</th>\n",
       "      <th>Survived</th>\n",
       "      <th>Pclass</th>\n",
       "      <th>Name</th>\n",
       "      <th>Sex</th>\n",
       "      <th>Age</th>\n",
       "      <th>SibSp</th>\n",
       "      <th>Parch</th>\n",
       "      <th>Ticket</th>\n",
       "      <th>Fare</th>\n",
       "      <th>Cabin</th>\n",
       "      <th>Embarked</th>\n",
       "    </tr>\n",
       "  </thead>\n",
       "  <tbody>\n",
       "    <tr>\n",
       "      <th>0</th>\n",
       "      <td>1</td>\n",
       "      <td>0</td>\n",
       "      <td>1.0</td>\n",
       "      <td>Braund, Mr. Owen Harris</td>\n",
       "      <td>0</td>\n",
       "      <td>0.271174</td>\n",
       "      <td>1</td>\n",
       "      <td>0</td>\n",
       "      <td>A/5 21171</td>\n",
       "      <td>7.2500</td>\n",
       "      <td>NaN</td>\n",
       "      <td>0</td>\n",
       "    </tr>\n",
       "    <tr>\n",
       "      <th>1</th>\n",
       "      <td>2</td>\n",
       "      <td>1</td>\n",
       "      <td>0.0</td>\n",
       "      <td>Cumings, Mrs. John Bradley (Florence Briggs Th...</td>\n",
       "      <td>1</td>\n",
       "      <td>0.472229</td>\n",
       "      <td>1</td>\n",
       "      <td>0</td>\n",
       "      <td>PC 17599</td>\n",
       "      <td>71.2833</td>\n",
       "      <td>C85</td>\n",
       "      <td>1</td>\n",
       "    </tr>\n",
       "    <tr>\n",
       "      <th>2</th>\n",
       "      <td>3</td>\n",
       "      <td>1</td>\n",
       "      <td>1.0</td>\n",
       "      <td>Heikkinen, Miss. Laina</td>\n",
       "      <td>1</td>\n",
       "      <td>0.321438</td>\n",
       "      <td>0</td>\n",
       "      <td>0</td>\n",
       "      <td>STON/O2. 3101282</td>\n",
       "      <td>7.9250</td>\n",
       "      <td>NaN</td>\n",
       "      <td>0</td>\n",
       "    </tr>\n",
       "    <tr>\n",
       "      <th>3</th>\n",
       "      <td>4</td>\n",
       "      <td>1</td>\n",
       "      <td>0.0</td>\n",
       "      <td>Futrelle, Mrs. Jacques Heath (Lily May Peel)</td>\n",
       "      <td>1</td>\n",
       "      <td>0.434531</td>\n",
       "      <td>1</td>\n",
       "      <td>0</td>\n",
       "      <td>113803</td>\n",
       "      <td>53.1000</td>\n",
       "      <td>C123</td>\n",
       "      <td>0</td>\n",
       "    </tr>\n",
       "    <tr>\n",
       "      <th>4</th>\n",
       "      <td>5</td>\n",
       "      <td>0</td>\n",
       "      <td>1.0</td>\n",
       "      <td>Allen, Mr. William Henry</td>\n",
       "      <td>0</td>\n",
       "      <td>0.434531</td>\n",
       "      <td>0</td>\n",
       "      <td>0</td>\n",
       "      <td>373450</td>\n",
       "      <td>8.0500</td>\n",
       "      <td>NaN</td>\n",
       "      <td>0</td>\n",
       "    </tr>\n",
       "  </tbody>\n",
       "</table>\n",
       "</div>"
      ],
      "text/plain": [
       "   PassengerId  Survived  Pclass  \\\n",
       "0            1         0     1.0   \n",
       "1            2         1     0.0   \n",
       "2            3         1     1.0   \n",
       "3            4         1     0.0   \n",
       "4            5         0     1.0   \n",
       "\n",
       "                                                Name  Sex       Age  SibSp  \\\n",
       "0                            Braund, Mr. Owen Harris    0  0.271174      1   \n",
       "1  Cumings, Mrs. John Bradley (Florence Briggs Th...    1  0.472229      1   \n",
       "2                             Heikkinen, Miss. Laina    1  0.321438      0   \n",
       "3       Futrelle, Mrs. Jacques Heath (Lily May Peel)    1  0.434531      1   \n",
       "4                           Allen, Mr. William Henry    0  0.434531      0   \n",
       "\n",
       "   Parch            Ticket     Fare Cabin  Embarked  \n",
       "0      0         A/5 21171   7.2500   NaN         0  \n",
       "1      0          PC 17599  71.2833   C85         1  \n",
       "2      0  STON/O2. 3101282   7.9250   NaN         0  \n",
       "3      0            113803  53.1000  C123         0  \n",
       "4      0            373450   8.0500   NaN         0  "
      ]
     },
     "execution_count": 26,
     "metadata": {},
     "output_type": "execute_result"
    }
   ],
   "source": [
    "train[0:5]"
   ]
  },
  {
   "cell_type": "markdown",
   "metadata": {},
   "source": [
    "### 2.3. Write a logistic regression classifier using numpy "
   ]
  },
  {
   "cell_type": "code",
   "execution_count": 27,
   "metadata": {},
   "outputs": [],
   "source": [
    "def sigmoid(X):\n",
    "    return np.exp(X)/1+np.exp(X)"
   ]
  },
  {
   "cell_type": "code",
   "execution_count": 28,
   "metadata": {},
   "outputs": [],
   "source": [
    "class Logistic_regression():\n",
    "    def __init__(self, lr = 0.01, n_iters = 1000, threshold = 0.5) -> None:\n",
    "        self.lr = lr\n",
    "        self.n_iters = n_iters\n",
    "        self.threshold = threshold\n",
    "        self.weight = None            # initial weight\n",
    "        self.bias = None              # initial bias\n",
    "\n",
    "\n",
    "    def fit(self, X, y):\n",
    "        n_samples, n_features = X.shape\n",
    "        self.weight = np.zeros((n_features,1))\n",
    "        self.bias = 0\n",
    "\n",
    "        for _ in range(self.n_iters):\n",
    "            li_pred = np.dot(X, self.weight) + self.bias\n",
    "            prediction = sigmoid(li_pred)\n",
    "        \n",
    "            dw = (1/n_samples) * np.dot(X.T, (prediction - y))\n",
    "            db = (1/n_samples) * np.sum(prediction - y)\n",
    "\n",
    "            # update weight and bias\n",
    "            self.weight = self.weight - dw*self.lr\n",
    "            self.bias = self.bias - db*self.lr\n",
    "\n",
    "\n",
    "    def predict(self, X):\n",
    "        li_pred = np.dot(X, self.weight) + self.bias\n",
    "        prediction = sigmoid(li_pred)\n",
    "\n",
    "        cls_pred = [[0] if p < self.threshold else [1] for p in prediction]\n",
    "\n",
    "        return cls_pred"
   ]
  },
  {
   "cell_type": "code",
   "execution_count": 29,
   "metadata": {},
   "outputs": [],
   "source": [
    "def evaluation(y_true, y_pred):\n",
    "\n",
    "    y_true = np.swapaxes(y_true,0,1)[0]\n",
    "    y_pred = np.swapaxes(y_pred,0,1)[0]\n",
    "\n",
    "    tp = np.sum(np.logical_and(y_true == 1, y_pred == 1))\n",
    "    tn = np.sum(np.logical_and(y_true == 0, y_pred == 0))\n",
    "    fp = np.sum(np.logical_and(y_true == 0, y_pred == 1))\n",
    "    fn = np.sum(np.logical_and(y_true == 1, y_pred == 0))\n",
    "\n",
    "    precision = tp/(tp+fp) if tp+fp > 0 else 0\n",
    "    recall = tp/(tp+fn) if tp+fp > 0 else 0\n",
    "    f1 = (2*precision*recall)/(precision+recall) if precision+recall > 0 else 0\n",
    "    acc = (tp+tn)/len(y_true)\n",
    "\n",
    "    return acc, precision, recall, f1"
   ]
  },
  {
   "cell_type": "markdown",
   "metadata": {},
   "source": [
    "### 2.4 Show your precision, recall, f1-score on the training set and test set. Threshold with 0.5"
   ]
  },
  {
   "cell_type": "code",
   "execution_count": 30,
   "metadata": {},
   "outputs": [
    {
     "name": "stdout",
     "output_type": "stream",
     "text": [
      "(891, 4)\n",
      "(891, 1)\n"
     ]
    }
   ],
   "source": [
    "data = np.array(train[[\"Pclass\",\"Sex\",\"Age\",\"Embarked\"]].values, dtype=float)\n",
    "label = np.array(train[[\"Survived\"]].values, dtype=float)\n",
    "print(data.shape)\n",
    "print(label.shape)"
   ]
  },
  {
   "cell_type": "code",
   "execution_count": 31,
   "metadata": {},
   "outputs": [
    {
     "data": {
      "text/plain": [
       "array([[1.        , 0.        , 0.27117366, 0.        ],\n",
       "       [0.        , 1.        , 0.4722292 , 1.        ],\n",
       "       [1.        , 1.        , 0.32143755, 0.        ],\n",
       "       [0.        , 1.        , 0.43453129, 0.        ],\n",
       "       [1.        , 0.        , 0.43453129, 0.        ]])"
      ]
     },
     "execution_count": 31,
     "metadata": {},
     "output_type": "execute_result"
    }
   ],
   "source": [
    "data[0:5]"
   ]
  },
  {
   "cell_type": "code",
   "execution_count": 32,
   "metadata": {},
   "outputs": [],
   "source": [
    "clf = Logistic_regression(lr=0.001, n_iters=100000,threshold=0.5)\n",
    "clf.fit(data, label)"
   ]
  },
  {
   "cell_type": "code",
   "execution_count": 33,
   "metadata": {},
   "outputs": [],
   "source": [
    "pred = clf.predict(data)"
   ]
  },
  {
   "cell_type": "code",
   "execution_count": 34,
   "metadata": {},
   "outputs": [
    {
     "name": "stdout",
     "output_type": "stream",
     "text": [
      "Accuracy :  0.8058361391694725\n",
      "Precision :  0.8366533864541833\n",
      "Recall :  0.6140350877192983\n",
      "F1-score :  0.7082630691399663\n"
     ]
    }
   ],
   "source": [
    "accuracy, precision, recall, f1 = evaluation(label, pred)\n",
    "print('Accuracy : ',accuracy)\n",
    "print('Precision : ',precision)\n",
    "print('Recall : ',recall)\n",
    "print('F1-score : ',f1)\n"
   ]
  },
  {
   "cell_type": "markdown",
   "metadata": {},
   "source": [
    "### 2.5 Try adding some higher order features to your training e.g. (x1^2, x1,x2,...)."
   ]
  },
  {
   "cell_type": "code",
   "execution_count": 35,
   "metadata": {},
   "outputs": [],
   "source": [
    "newdata = data.copy()"
   ]
  },
  {
   "cell_type": "code",
   "execution_count": 36,
   "metadata": {},
   "outputs": [
    {
     "data": {
      "text/plain": [
       "array([[1.        , 0.        , 0.27117366, 0.        ],\n",
       "       [0.        , 1.        , 0.4722292 , 1.        ],\n",
       "       [1.        , 1.        , 0.32143755, 0.        ],\n",
       "       [0.        , 1.        , 0.43453129, 0.        ],\n",
       "       [1.        , 0.        , 0.43453129, 0.        ]])"
      ]
     },
     "execution_count": 36,
     "metadata": {},
     "output_type": "execute_result"
    }
   ],
   "source": [
    "data[:5]"
   ]
  },
  {
   "cell_type": "markdown",
   "metadata": {},
   "source": [
    "Add power on feature 'Age'"
   ]
  },
  {
   "cell_type": "code",
   "execution_count": 37,
   "metadata": {},
   "outputs": [],
   "source": [
    "newdata[:, 2] = newdata[:, 2]**2"
   ]
  },
  {
   "cell_type": "code",
   "execution_count": 38,
   "metadata": {},
   "outputs": [
    {
     "data": {
      "text/plain": [
       "array([[1.        , 0.        , 0.07353515, 0.        ],\n",
       "       [0.        , 1.        , 0.22300042, 1.        ],\n",
       "       [1.        , 1.        , 0.1033221 , 0.        ],\n",
       "       [0.        , 1.        , 0.18881744, 0.        ],\n",
       "       [1.        , 0.        , 0.18881744, 0.        ]])"
      ]
     },
     "execution_count": 38,
     "metadata": {},
     "output_type": "execute_result"
    }
   ],
   "source": [
    "newdata[:5]"
   ]
  },
  {
   "cell_type": "code",
   "execution_count": 39,
   "metadata": {},
   "outputs": [],
   "source": [
    "clf2 = Logistic_regression(lr=0.001, n_iters=100000,threshold=0.5)\n",
    "clf2.fit(newdata, label)"
   ]
  },
  {
   "cell_type": "code",
   "execution_count": 40,
   "metadata": {},
   "outputs": [],
   "source": [
    "pred = clf2.predict(newdata)"
   ]
  },
  {
   "cell_type": "code",
   "execution_count": 41,
   "metadata": {},
   "outputs": [
    {
     "name": "stdout",
     "output_type": "stream",
     "text": [
      "Accuracy :  0.8069584736251403\n",
      "Precision :  0.8512396694214877\n",
      "Recall :  0.6023391812865497\n",
      "F1-score :  0.7054794520547946\n"
     ]
    }
   ],
   "source": [
    "accuracy, precision, recall, f1 = evaluation(label, pred)\n",
    "print('Accuracy : ',accuracy)\n",
    "print('Precision : ',precision)\n",
    "print('Recall : ',recall)\n",
    "print('F1-score : ',f1)"
   ]
  },
  {
   "cell_type": "markdown",
   "metadata": {},
   "source": [
    "Summary: หลังจากยกกำลัง 2 ที่ feature 'Age' ผลลัพธ์คือ \n",
    "- Accuracy เพิ่มขึ้น  0.8058361391694725 --> 0.8069584736251403\n",
    "- Precision เพิ่มขึ้น 0.8366533864541833 --> 0.8512396694214877\n",
    "- Recall ลดลง 0.6140350877192983 --> 0.6023391812865497\n",
    "- F1-score ลดลง 0.7082630691399663 --> 0.7054794520547946"
   ]
  },
  {
   "cell_type": "markdown",
   "metadata": {},
   "source": [
    "### 2.6. What happens if you reduce the number of features to just Sex and Age?"
   ]
  },
  {
   "cell_type": "code",
   "execution_count": 42,
   "metadata": {},
   "outputs": [
    {
     "name": "stdout",
     "output_type": "stream",
     "text": [
      "(891, 2)\n",
      "(891, 1)\n"
     ]
    }
   ],
   "source": [
    "data = np.array(train[[\"Sex\",\"Age\"]].values, dtype=float)\n",
    "label = np.array(train[[\"Survived\"]].values, dtype=float)\n",
    "print(data.shape)\n",
    "print(label.shape)"
   ]
  },
  {
   "cell_type": "code",
   "execution_count": 43,
   "metadata": {},
   "outputs": [],
   "source": [
    "clf = Logistic_regression(lr=0.001, n_iters=100000,threshold=0.5)\n",
    "clf.fit(data, label)"
   ]
  },
  {
   "cell_type": "code",
   "execution_count": 44,
   "metadata": {},
   "outputs": [],
   "source": [
    "pred = clf.predict(data)"
   ]
  },
  {
   "cell_type": "code",
   "execution_count": 45,
   "metadata": {},
   "outputs": [
    {
     "name": "stdout",
     "output_type": "stream",
     "text": [
      "Accuracy :  0.7867564534231201\n",
      "Precision :  0.7420382165605095\n",
      "Recall :  0.6812865497076024\n",
      "F1-score :  0.7103658536585367\n"
     ]
    }
   ],
   "source": [
    "accuracy, precision, recall, f1 = evaluation(label, pred)\n",
    "print('Accuracy : ',accuracy)\n",
    "print('Precision : ',precision)\n",
    "print('Recall : ',recall)\n",
    "print('F1-score : ',f1)"
   ]
  },
  {
   "cell_type": "markdown",
   "metadata": {},
   "source": [
    "Summary : เมื่อเหลือเพียง 2 feature พบว่า\n",
    "- Accuracy ลดลง  0.8058361391694725 --> 0.7867564534231201 \n",
    "- Precision ลดลง 0.8366533864541833 --> 0.7420382165605095\n",
    "- Recall เพิ่มขึ้น 0.6140350877192983 --> 0.6812865497076024\n",
    "- F1-score เพิ่มขึ้น 0.7082630691399663 --> 0.7103658536585367\n",
    "\n",
    "ซึ่งการลด feature อาจทำให้ข้อมูลที่สำคัญๆที่อาจมีปัจจัยที่ทำให้ผู้โดยสารรอดชีวิตหายไป เลยทำให้ความค่าแม่นยำโดยรวมลดลง แต่ในทางกลับกันก็ทำให้อัตราการทายถูกเพิ่มมากขึ้น(recall)"
   ]
  },
  {
   "cell_type": "markdown",
   "metadata": {},
   "source": [
    "### 2.7 Show that matrix inversion yields the same answer as the gradient descent method."
   ]
  },
  {
   "cell_type": "code",
   "execution_count": 46,
   "metadata": {},
   "outputs": [],
   "source": [
    "class Linear_regression():\n",
    "    def __init__(self, lr = 0.01, n_iters = 1000, threshold = 0.5) -> None:\n",
    "        self.lr = lr\n",
    "        self.n_iters = n_iters\n",
    "        self.threshold = threshold\n",
    "        self.weight = None\n",
    "        self.bias = None\n",
    "        self.loss = []\n",
    "\n",
    "    def MSE_loss(self, y_true, y_pred):\n",
    "\n",
    "        return sum(np.power(y_true - y_pred, 2)) / y_true.shape[0]\n",
    "    \n",
    "    def fit(self, X, y):\n",
    "        n_samples, n_features = X.shape\n",
    "        self.weight = np.zeros((n_features,1))\n",
    "        self.bias = 0\n",
    "\n",
    "        for _ in range(self.n_iters):\n",
    "            li_pred = np.dot(X, self.weight) + self.bias\n",
    "\n",
    "            self.loss.append(self.MSE_loss(y, li_pred))\n",
    "\n",
    "            dw = (1/n_samples) * np.dot(X.T, (li_pred - y))\n",
    "            db = (1/n_samples) * np.sum(li_pred - y)\n",
    "\n",
    "            self.weight = self.weight - dw*self.lr\n",
    "            self.bias = self.bias - db*self.lr\n",
    "\n",
    "    def predict(self, X):\n",
    "        li_pred = np.dot(X, self.weight) + self.bias\n",
    "        # prediction = sigmoid(li_pred)\n",
    "        # cls_pred = [[0] if p < self.threshold else [1] for p in prediction]\n",
    "\n",
    "        return li_pred\n",
    "    \n",
    "    def matrix_inversion(self,X,Y):\n",
    "        ones = np.ones((X.shape[0], 1))\n",
    "        X = np.hstack((X , ones))\n",
    "\n",
    "        out = np.linalg.inv(X.T @ X) @ X.T @ Y\n",
    "        self.weight = out[:-1]\n",
    "        self.bias = out[-1]"
   ]
  },
  {
   "cell_type": "code",
   "execution_count": 47,
   "metadata": {},
   "outputs": [
    {
     "name": "stdout",
     "output_type": "stream",
     "text": [
      "(891, 4)\n",
      "(891, 1)\n"
     ]
    }
   ],
   "source": [
    "data = np.array(train[[\"Pclass\",\"Sex\",\"Age\",\"Embarked\"]].values, dtype=float)\n",
    "label = np.array(train[[\"Survived\"]].values, dtype=float)\n",
    "print(data.shape)\n",
    "print(label.shape)"
   ]
  },
  {
   "cell_type": "markdown",
   "metadata": {},
   "source": [
    "Use normal linear regression instead"
   ]
  },
  {
   "cell_type": "code",
   "execution_count": 48,
   "metadata": {},
   "outputs": [],
   "source": [
    "clf = Linear_regression(lr=0.001, n_iters=100000,threshold=0.5)\n",
    "clf.fit(data, label)"
   ]
  },
  {
   "cell_type": "code",
   "execution_count": 49,
   "metadata": {},
   "outputs": [],
   "source": [
    "pred = clf.predict(data)\n",
    "# print(pred[0:5])"
   ]
  },
  {
   "cell_type": "code",
   "execution_count": 50,
   "metadata": {},
   "outputs": [
    {
     "name": "stdout",
     "output_type": "stream",
     "text": [
      "Bias: [0.5369255505476325]\n",
      "Weights: [[-0.35827393]\n",
      " [ 0.49750952]\n",
      " [-0.30956059]\n",
      " [ 0.04898112]]\n",
      "Loss (MSE): [0.14513213]\n"
     ]
    }
   ],
   "source": [
    "print('Bias:', [clf.bias])\n",
    "print('Weights:', clf.weight)\n",
    "print('Loss (MSE):', clf.MSE_loss(label, pred))"
   ]
  },
  {
   "cell_type": "markdown",
   "metadata": {},
   "source": [
    "### 2.8. Now try using matrix inversion instead"
   ]
  },
  {
   "cell_type": "code",
   "execution_count": 51,
   "metadata": {},
   "outputs": [],
   "source": [
    "clf.matrix_inversion(data,label) ## to set weight and bias\n",
    "pred = clf.predict(data)"
   ]
  },
  {
   "cell_type": "code",
   "execution_count": 52,
   "metadata": {},
   "outputs": [
    {
     "name": "stdout",
     "output_type": "stream",
     "text": [
      "Bias: [array([0.58598215])]\n",
      "Weights: [[-0.37687889]\n",
      " [ 0.49086711]\n",
      " [-0.40222591]\n",
      " [ 0.04911346]]\n",
      "Loss (MSE): [0.14492574]\n"
     ]
    }
   ],
   "source": [
    "print('Bias:', [clf.bias])\n",
    "print('Weights:', clf.weight)\n",
    "print('Loss (MSE):', clf.MSE_loss(label, pred))"
   ]
  },
  {
   "cell_type": "markdown",
   "metadata": {},
   "source": [
    "Summary (2.7, 2.8) : weight และ bias จากการทำ linear regression อาจจะยังไม่ตรงกับการทำ matrix inversion แต่ก็มีความใกล้เคียงกันในระดับนึง อาจจะเป็นเพราะว่ายังปรับ learning rate และ iteration ที่ยังน้อยอยู่เลยทำให้โมเดลยังไม่ลู่เข้าสู้ค่าที่ควร"
   ]
  }
 ],
 "metadata": {
  "kernelspec": {
   "display_name": "pt",
   "language": "python",
   "name": "python3"
  },
  "language_info": {
   "codemirror_mode": {
    "name": "ipython",
    "version": 3
   },
   "file_extension": ".py",
   "mimetype": "text/x-python",
   "name": "python",
   "nbconvert_exporter": "python",
   "pygments_lexer": "ipython3",
   "version": "3.9.16"
  }
 },
 "nbformat": 4,
 "nbformat_minor": 2
}
